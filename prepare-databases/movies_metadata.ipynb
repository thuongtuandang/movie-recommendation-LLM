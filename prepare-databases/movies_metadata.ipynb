{
 "cells": [
  {
   "cell_type": "code",
   "execution_count": 66,
   "metadata": {},
   "outputs": [],
   "source": [
    "import pandas as pd\n",
    "import seaborn as sns\n",
    "import matplotlib.pyplot as plt\n",
    "import json"
   ]
  },
  {
   "cell_type": "code",
   "execution_count": 67,
   "metadata": {},
   "outputs": [
    {
     "name": "stderr",
     "output_type": "stream",
     "text": [
      "/var/folders/rt/q1nqm7vd4j175p7gyf5tqnhh0000gn/T/ipykernel_3108/3194182012.py:1: DtypeWarning: Columns (10) have mixed types. Specify dtype option on import or set low_memory=False.\n",
      "  df = pd.read_csv('../data/movies_metadata.csv')\n"
     ]
    },
    {
     "data": {
      "text/plain": [
       "adult                        0\n",
       "belongs_to_collection    40972\n",
       "budget                       0\n",
       "genres                       0\n",
       "homepage                 37684\n",
       "id                           0\n",
       "imdb_id                     17\n",
       "original_language           11\n",
       "original_title               0\n",
       "overview                   954\n",
       "popularity                   5\n",
       "poster_path                386\n",
       "production_companies         3\n",
       "production_countries         3\n",
       "release_date                87\n",
       "revenue                      6\n",
       "runtime                    263\n",
       "spoken_languages             6\n",
       "status                      87\n",
       "tagline                  25054\n",
       "title                        6\n",
       "video                        6\n",
       "vote_average                 6\n",
       "vote_count                   6\n",
       "dtype: int64"
      ]
     },
     "execution_count": 67,
     "metadata": {},
     "output_type": "execute_result"
    }
   ],
   "source": [
    "df = pd.read_csv('../data/movies_metadata.csv')\n",
    "df.isna().sum()"
   ]
  },
  {
   "cell_type": "markdown",
   "metadata": {},
   "source": [
    "Important fields:\n",
    "- adult\n",
    "- genres\n",
    "- imdb_id\n",
    "- original_language\n",
    "- original_title\n",
    "- overview\n",
    "- release_date\n",
    "- vote_average\n",
    "- vote_count\n",
    "Our plan is to "
   ]
  },
  {
   "cell_type": "code",
   "execution_count": 68,
   "metadata": {},
   "outputs": [
    {
     "data": {
      "text/plain": [
       "(45466, 9)"
      ]
     },
     "execution_count": 68,
     "metadata": {},
     "output_type": "execute_result"
    }
   ],
   "source": [
    "features = ['adult', 'genres', 'imdb_id', 'original_language', 'original_title', \n",
    "            'overview', 'release_date', 'vote_average', 'vote_count']\n",
    "df = df[features]\n",
    "df.shape"
   ]
  },
  {
   "cell_type": "code",
   "execution_count": 69,
   "metadata": {},
   "outputs": [
    {
     "data": {
      "text/plain": [
       "adult                  0\n",
       "genres                 0\n",
       "imdb_id               17\n",
       "original_language     11\n",
       "original_title         0\n",
       "overview             954\n",
       "release_date          87\n",
       "vote_average           6\n",
       "vote_count             6\n",
       "dtype: int64"
      ]
     },
     "execution_count": 69,
     "metadata": {},
     "output_type": "execute_result"
    }
   ],
   "source": [
    "df.isna().sum()"
   ]
  },
  {
   "cell_type": "code",
   "execution_count": 70,
   "metadata": {},
   "outputs": [
    {
     "name": "stderr",
     "output_type": "stream",
     "text": [
      "/var/folders/rt/q1nqm7vd4j175p7gyf5tqnhh0000gn/T/ipykernel_3108/2825310197.py:1: FutureWarning: Setting an item of incompatible dtype is deprecated and will raise an error in a future version of pandas. Value 'Unknown' has dtype incompatible with float64, please explicitly cast to a compatible dtype first.\n",
      "  df.fillna('Unknown', inplace=True)\n"
     ]
    }
   ],
   "source": [
    "df.fillna('Unknown', inplace=True)"
   ]
  },
  {
   "cell_type": "markdown",
   "metadata": {},
   "source": [
    "The generes column is of this form:"
   ]
  },
  {
   "cell_type": "code",
   "execution_count": 71,
   "metadata": {},
   "outputs": [
    {
     "data": {
      "text/plain": [
       "\"[{'id': 16, 'name': 'Animation'}, {'id': 35, 'name': 'Comedy'}, {'id': 10751, 'name': 'Family'}]\""
      ]
     },
     "execution_count": 71,
     "metadata": {},
     "output_type": "execute_result"
    }
   ],
   "source": [
    "df['genres'][0]"
   ]
  },
  {
   "cell_type": "markdown",
   "metadata": {},
   "source": [
    "And we would like to get all info: Animation, Comedy, Family. Here are sample codes:"
   ]
  },
  {
   "cell_type": "code",
   "execution_count": 72,
   "metadata": {},
   "outputs": [
    {
     "data": {
      "text/plain": [
       "'Animation, Comedy, Family'"
      ]
     },
     "execution_count": 72,
     "metadata": {},
     "output_type": "execute_result"
    }
   ],
   "source": [
    "genres_list = [{'id': 16, 'name': 'Animation'}, {'id': 35, 'name': 'Comedy'}, {'id': 10751, 'name': 'Family'}]\n",
    "names = []\n",
    "for genres in genres_list:\n",
    "    name = genres['name']\n",
    "    names.append(name)\n",
    "separator = ', '\n",
    "separator.join(names)"
   ]
  },
  {
   "cell_type": "markdown",
   "metadata": {},
   "source": [
    "We will apply the method to the column genres. Note that genres from the column is string, and we need to:\n",
    "- replace ' by \" for the correct json format\n",
    "- parse the string to python list with json.load()"
   ]
  },
  {
   "cell_type": "code",
   "execution_count": 73,
   "metadata": {},
   "outputs": [],
   "source": [
    "def extract_genre_names(genres_str):\n",
    "    genres_list = json.loads(genres_str.replace(\"'\", '\"'))\n",
    "    names = []\n",
    "    for genres in genres_list:\n",
    "        name = genres['name']\n",
    "        names.append(name)\n",
    "    separator = ', '\n",
    "    return separator.join(names)"
   ]
  },
  {
   "cell_type": "code",
   "execution_count": 74,
   "metadata": {},
   "outputs": [],
   "source": [
    "df['genres'] = df['genres'].apply(extract_genre_names)"
   ]
  },
  {
   "cell_type": "code",
   "execution_count": 75,
   "metadata": {},
   "outputs": [
    {
     "data": {
      "text/plain": [
       "0         Animation, Comedy, Family\n",
       "1        Adventure, Fantasy, Family\n",
       "2                   Romance, Comedy\n",
       "3            Comedy, Drama, Romance\n",
       "4                            Comedy\n",
       "                    ...            \n",
       "45461                 Drama, Family\n",
       "45462                         Drama\n",
       "45463       Action, Drama, Thriller\n",
       "45464                              \n",
       "45465                              \n",
       "Name: genres, Length: 45466, dtype: object"
      ]
     },
     "execution_count": 75,
     "metadata": {},
     "output_type": "execute_result"
    }
   ],
   "source": [
    "df['genres']"
   ]
  },
  {
   "cell_type": "code",
   "execution_count": 76,
   "metadata": {},
   "outputs": [
    {
     "data": {
      "text/html": [
       "<div>\n",
       "<style scoped>\n",
       "    .dataframe tbody tr th:only-of-type {\n",
       "        vertical-align: middle;\n",
       "    }\n",
       "\n",
       "    .dataframe tbody tr th {\n",
       "        vertical-align: top;\n",
       "    }\n",
       "\n",
       "    .dataframe thead th {\n",
       "        text-align: right;\n",
       "    }\n",
       "</style>\n",
       "<table border=\"1\" class=\"dataframe\">\n",
       "  <thead>\n",
       "    <tr style=\"text-align: right;\">\n",
       "      <th></th>\n",
       "      <th>adult</th>\n",
       "      <th>genres</th>\n",
       "      <th>imdb_id</th>\n",
       "      <th>original_language</th>\n",
       "      <th>original_title</th>\n",
       "      <th>overview</th>\n",
       "      <th>release_date</th>\n",
       "      <th>vote_average</th>\n",
       "      <th>vote_count</th>\n",
       "    </tr>\n",
       "  </thead>\n",
       "  <tbody>\n",
       "    <tr>\n",
       "      <th>0</th>\n",
       "      <td>False</td>\n",
       "      <td>Animation, Comedy, Family</td>\n",
       "      <td>tt0114709</td>\n",
       "      <td>en</td>\n",
       "      <td>Toy Story</td>\n",
       "      <td>Led by Woody, Andy's toys live happily in his ...</td>\n",
       "      <td>1995-10-30</td>\n",
       "      <td>7.7</td>\n",
       "      <td>5415.0</td>\n",
       "    </tr>\n",
       "    <tr>\n",
       "      <th>1</th>\n",
       "      <td>False</td>\n",
       "      <td>Adventure, Fantasy, Family</td>\n",
       "      <td>tt0113497</td>\n",
       "      <td>en</td>\n",
       "      <td>Jumanji</td>\n",
       "      <td>When siblings Judy and Peter discover an encha...</td>\n",
       "      <td>1995-12-15</td>\n",
       "      <td>6.9</td>\n",
       "      <td>2413.0</td>\n",
       "    </tr>\n",
       "    <tr>\n",
       "      <th>2</th>\n",
       "      <td>False</td>\n",
       "      <td>Romance, Comedy</td>\n",
       "      <td>tt0113228</td>\n",
       "      <td>en</td>\n",
       "      <td>Grumpier Old Men</td>\n",
       "      <td>A family wedding reignites the ancient feud be...</td>\n",
       "      <td>1995-12-22</td>\n",
       "      <td>6.5</td>\n",
       "      <td>92.0</td>\n",
       "    </tr>\n",
       "    <tr>\n",
       "      <th>3</th>\n",
       "      <td>False</td>\n",
       "      <td>Comedy, Drama, Romance</td>\n",
       "      <td>tt0114885</td>\n",
       "      <td>en</td>\n",
       "      <td>Waiting to Exhale</td>\n",
       "      <td>Cheated on, mistreated and stepped on, the wom...</td>\n",
       "      <td>1995-12-22</td>\n",
       "      <td>6.1</td>\n",
       "      <td>34.0</td>\n",
       "    </tr>\n",
       "    <tr>\n",
       "      <th>4</th>\n",
       "      <td>False</td>\n",
       "      <td>Comedy</td>\n",
       "      <td>tt0113041</td>\n",
       "      <td>en</td>\n",
       "      <td>Father of the Bride Part II</td>\n",
       "      <td>Just when George Banks has recovered from his ...</td>\n",
       "      <td>1995-02-10</td>\n",
       "      <td>5.7</td>\n",
       "      <td>173.0</td>\n",
       "    </tr>\n",
       "  </tbody>\n",
       "</table>\n",
       "</div>"
      ],
      "text/plain": [
       "   adult                      genres    imdb_id original_language  \\\n",
       "0  False   Animation, Comedy, Family  tt0114709                en   \n",
       "1  False  Adventure, Fantasy, Family  tt0113497                en   \n",
       "2  False             Romance, Comedy  tt0113228                en   \n",
       "3  False      Comedy, Drama, Romance  tt0114885                en   \n",
       "4  False                      Comedy  tt0113041                en   \n",
       "\n",
       "                original_title  \\\n",
       "0                    Toy Story   \n",
       "1                      Jumanji   \n",
       "2             Grumpier Old Men   \n",
       "3            Waiting to Exhale   \n",
       "4  Father of the Bride Part II   \n",
       "\n",
       "                                            overview release_date  \\\n",
       "0  Led by Woody, Andy's toys live happily in his ...   1995-10-30   \n",
       "1  When siblings Judy and Peter discover an encha...   1995-12-15   \n",
       "2  A family wedding reignites the ancient feud be...   1995-12-22   \n",
       "3  Cheated on, mistreated and stepped on, the wom...   1995-12-22   \n",
       "4  Just when George Banks has recovered from his ...   1995-02-10   \n",
       "\n",
       "  vote_average vote_count  \n",
       "0          7.7     5415.0  \n",
       "1          6.9     2413.0  \n",
       "2          6.5       92.0  \n",
       "3          6.1       34.0  \n",
       "4          5.7      173.0  "
      ]
     },
     "execution_count": 76,
     "metadata": {},
     "output_type": "execute_result"
    }
   ],
   "source": [
    "df.head()"
   ]
  },
  {
   "cell_type": "code",
   "execution_count": 77,
   "metadata": {},
   "outputs": [
    {
     "data": {
      "text/plain": [
       "adult                0\n",
       "genres               0\n",
       "imdb_id              0\n",
       "original_language    0\n",
       "original_title       0\n",
       "overview             0\n",
       "release_date         0\n",
       "vote_average         0\n",
       "vote_count           0\n",
       "dtype: int64"
      ]
     },
     "execution_count": 77,
     "metadata": {},
     "output_type": "execute_result"
    }
   ],
   "source": [
    "df.isna().sum()"
   ]
  },
  {
   "cell_type": "code",
   "execution_count": 78,
   "metadata": {},
   "outputs": [],
   "source": [
    "df['overview_length'] = df['overview'].apply(len)"
   ]
  },
  {
   "cell_type": "code",
   "execution_count": 80,
   "metadata": {},
   "outputs": [
    {
     "data": {
      "text/plain": [
       "<Axes: xlabel='overview_length', ylabel='Count'>"
      ]
     },
     "execution_count": 80,
     "metadata": {},
     "output_type": "execute_result"
    },
    {
     "data": {
      "image/png": "[encoded data removed]",
      "text/plain": [
       "<Figure size 640x480 with 1 Axes>"
      ]
     },
     "metadata": {},
     "output_type": "display_data"
    }
   ],
   "source": [
    "sns.histplot(\n",
    "    data = df,\n",
    "    x = 'overview_length',\n",
    "    kde=True,\n",
    "    color='blue'\n",
    ")"
   ]
  },
  {
   "cell_type": "markdown",
   "metadata": {},
   "source": [
    "The analysis indicates that the majority of movie overview texts contain between 100 and 400 words. We will import Sentence Transformer and transform overview to vectors."
   ]
  },
  {
   "cell_type": "code",
   "execution_count": 82,
   "metadata": {},
   "outputs": [],
   "source": [
    "from sentence_transformers import SentenceTransformer\n",
    "from qdrant_client import models, QdrantClient\n",
    "from qdrant_client.http.models import CollectionDescription, VectorParams"
   ]
  },
  {
   "cell_type": "code",
   "execution_count": 83,
   "metadata": {},
   "outputs": [],
   "source": [
    "model = SentenceTransformer('all-MiniLM-L6-v2')\n",
    "df['vectors'] = df['overview'].apply(lambda desc: model.encode(desc).tolist())"
   ]
  },
  {
   "cell_type": "code",
   "execution_count": 84,
   "metadata": {},
   "outputs": [],
   "source": [
    "client = QdrantClient(host='localhost', port=6333)"
   ]
  },
  {
   "cell_type": "code",
   "execution_count": 87,
   "metadata": {},
   "outputs": [
    {
     "data": {
      "text/plain": [
       "True"
      ]
     },
     "execution_count": 87,
     "metadata": {},
     "output_type": "execute_result"
    }
   ],
   "source": [
    "client.recreate_collection(\n",
    "    collection_name='movies',\n",
    "    vectors_config=VectorParams(size=384, distance='Cosine')\n",
    ")"
   ]
  },
  {
   "cell_type": "code",
   "execution_count": 88,
   "metadata": {},
   "outputs": [
    {
     "data": {
      "text/plain": [
       "Index(['adult', 'genres', 'imdb_id', 'original_language', 'original_title',\n",
       "       'overview', 'release_date', 'vote_average', 'vote_count',\n",
       "       'overview_length', 'vectors'],\n",
       "      dtype='object')"
      ]
     },
     "execution_count": 88,
     "metadata": {},
     "output_type": "execute_result"
    }
   ],
   "source": [
    "df.columns"
   ]
  },
  {
   "cell_type": "code",
   "execution_count": 89,
   "metadata": {},
   "outputs": [],
   "source": [
    "points=[]\n",
    "for idx, row in df.iterrows():\n",
    "    point = models.PointStruct(\n",
    "        id = idx,\n",
    "        vector = row['vectors'],\n",
    "        payload = {\n",
    "            \"adult\": row['adult'],\n",
    "            \"genres\": row['genres'],\n",
    "            \"imdb_id\": row['imdb_id'],\n",
    "            \"original_language\": row['original_language'],\n",
    "            \"original_title\": row['original_title'],\n",
    "            \"overview\": row['overview'],\n",
    "            \"release_date\": row['release_date'],\n",
    "            \"vote_average\": row['vote_average'],\n",
    "            \"vote_count\": row['vote_count']\n",
    "        }\n",
    "    )\n",
    "    points.append(point)"
   ]
  },
  {
   "cell_type": "code",
   "execution_count": 90,
   "metadata": {},
   "outputs": [],
   "source": [
    "client.upload_points(collection_name=\"movies\", points=points)"
   ]
  },
  {
   "cell_type": "markdown",
   "metadata": {},
   "source": [
    "We can now test the semantic search with an input query."
   ]
  },
  {
   "cell_type": "code",
   "execution_count": 103,
   "metadata": {},
   "outputs": [],
   "source": [
    "input_text = \"I don't know\""
   ]
  },
  {
   "cell_type": "code",
   "execution_count": 104,
   "metadata": {},
   "outputs": [],
   "source": [
    "results = []"
   ]
  },
  {
   "cell_type": "code",
   "execution_count": 105,
   "metadata": {},
   "outputs": [],
   "source": [
    "hits = client.search(\n",
    "    collection_name='movies',\n",
    "    query_vector=model.encode(input_text).tolist(),\n",
    "    limit = 3\n",
    ")\n",
    "for idx, hit in enumerate(hits):\n",
    "    result = {}\n",
    "    result['index'] = idx+1\n",
    "    result['original_title'] = hit.payload['original_title']\n",
    "    result['genres'] = hit.payload['genres']\n",
    "    result['overview'] = hit.payload['overview']\n",
    "    result['release_date'] = hit.payload['release_date']\n",
    "    result['vote_average'] = hit.payload['vote_average']\n",
    "    result['vote_count'] = hit.payload['vote_count']\n",
    "    results.append(result)"
   ]
  },
  {
   "cell_type": "code",
   "execution_count": 106,
   "metadata": {},
   "outputs": [
    {
     "data": {
      "text/plain": [
       "[{'index': 1,\n",
       "  'original_title': 'Kohtaamisia',\n",
       "  'genres': 'Drama',\n",
       "  'overview': 'Unknown',\n",
       "  'release_date': '2010-03-05',\n",
       "  'vote_average': 6.2,\n",
       "  'vote_count': 3.0},\n",
       " {'index': 2,\n",
       "  'original_title': 'La Sierra',\n",
       "  'genres': '',\n",
       "  'overview': 'Unknown',\n",
       "  'release_date': '2005-01-01',\n",
       "  'vote_average': 7.5,\n",
       "  'vote_count': 4.0},\n",
       " {'index': 3,\n",
       "  'original_title': 'Le diable au corps',\n",
       "  'genres': 'Drama, Romance',\n",
       "  'overview': 'Unknown',\n",
       "  'release_date': '1947-09-22',\n",
       "  'vote_average': 5.3,\n",
       "  'vote_count': 7.0}]"
      ]
     },
     "execution_count": 106,
     "metadata": {},
     "output_type": "execute_result"
    }
   ],
   "source": [
    "results"
   ]
  },
  {
   "cell_type": "markdown",
   "metadata": {},
   "source": [
    "Here is an evaluation in the top 3 results:\n",
    "\n",
    "- 'Viimne reliikvia' closely matches the Middle Ages theme but lacks traditional fantasy elements.\n",
    "- 'The Ring Thing' offers a comedic take on the fantasy genre with a loose connection to the Middle Ages theme.\n",
    "- 'Amazons' aligns with both the fantasy genre and the Middle Ages theme in a broader, mythical context.\n",
    "\n",
    "As we can see, it is quite good. We can improve the results by implemeting an LLM layer to extract the genres and give more info for the input query."
   ]
  },
  {
   "cell_type": "code",
   "execution_count": null,
   "metadata": {},
   "outputs": [],
   "source": []
  }
 ],
 "metadata": {
  "kernelspec": {
   "display_name": "movie-recommendation-LLM-K7t7D6Dz",
   "language": "python",
   "name": "python3"
  },
  "language_info": {
   "codemirror_mode": {
    "name": "ipython",
    "version": 3
   },
   "file_extension": ".py",
   "mimetype": "text/x-python",
   "name": "python",
   "nbconvert_exporter": "python",
   "pygments_lexer": "ipython3",
   "version": "3.10.13"
  }
 },
 "nbformat": 4,
 "nbformat_minor": 2
}
